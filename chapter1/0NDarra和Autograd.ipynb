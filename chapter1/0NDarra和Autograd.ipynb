{
 "nbformat": 4,
 "nbformat_minor": 2,
 "metadata": {
  "language_info": {
   "name": "python",
   "codemirror_mode": {
    "name": "ipython",
    "version": 3
   }
  },
  "orig_nbformat": 2,
  "file_extension": ".py",
  "mimetype": "text/x-python",
  "name": "python",
  "npconvert_exporter": "python",
  "pygments_lexer": "ipython3",
  "version": 3
 },
 "cells": [
  {
   "cell_type": "markdown",
   "execution_count": null,
   "metadata": {},
   "outputs": [],
   "source": [
    "# 基础知识"
   ]
  },
  {
   "cell_type": "markdown",
   "execution_count": 2,
   "metadata": {},
   "outputs": [],
   "source": [
    "## 1 NDarray"
   ]
  },
  {
   "cell_type": "code",
   "execution_count": 3,
   "metadata": {},
   "outputs": [],
   "source": [
    "from mxnet import nd"
   ]
  },
  {
   "cell_type": "code",
   "execution_count": 25,
   "metadata": {},
   "outputs": [
    {
     "name": "stdout",
     "output_type": "stream",
     "text": "(12,) 12 \n[ 0.  1.  2.  3.  4.  5.  6.  7.  8.  9. 10. 11.]\n<NDArray 12 @cpu(0)>\n"
    }
   ],
   "source": [
    "# 创建NDarray\n",
    "x = nd.arange(12)\n",
    "print(x.shape,x.size,x)"
   ]
  },
  {
   "cell_type": "code",
   "execution_count": 26,
   "metadata": {},
   "outputs": [
    {
     "name": "stdout",
     "output_type": "stream",
     "text": "\n[[ 0.  1.  2.  3.]\n [ 4.  5.  6.  7.]\n [ 8.  9. 10. 11.]]\n<NDArray 3x4 @cpu(0)>\n"
    }
   ],
   "source": [
    "x = x.reshape((3,4))\n",
    "print(x)"
   ]
  },
  {
   "cell_type": "code",
   "execution_count": 27,
   "metadata": {},
   "outputs": [
    {
     "data": {
      "text/plain": "\n[[[0. 0. 0. 0.]\n  [0. 0. 0. 0.]\n  [0. 0. 0. 0.]]\n\n [[0. 0. 0. 0.]\n  [0. 0. 0. 0.]\n  [0. 0. 0. 0.]]]\n<NDArray 2x3x4 @cpu(0)>"
     },
     "execution_count": 27,
     "metadata": {},
     "output_type": "execute_result"
    }
   ],
   "source": [
    "nd.zeros((2,3,4))\n",
    "#nd.ones((2,3,4))"
   ]
  },
  {
   "cell_type": "code",
   "execution_count": 39,
   "metadata": {},
   "outputs": [
    {
     "name": "stdout",
     "output_type": "stream",
     "text": "\n[[1. 2. 3. 4.]\n [5. 6. 7. 6.]\n [1. 2. 3. 4.]]\n<NDArray 3x4 @cpu(0)>\n"
    }
   ],
   "source": [
    "y = nd.array([[1,2,3,4],[5,6,7,6],[1,2,3,4]])\n",
    "print(y)"
   ]
  },
  {
   "cell_type": "code",
   "execution_count": 40,
   "metadata": {},
   "outputs": [
    {
     "data": {
      "text/plain": "\n[[-1.8815191  -0.7205708  -0.3560157  -0.15963984]\n [ 1.7974477   0.19594945 -1.7376398   0.04734707]\n [ 0.14580931  0.32604915  0.4578783  -0.89425814]]\n<NDArray 3x4 @cpu(0)>"
     },
     "execution_count": 40,
     "metadata": {},
     "output_type": "execute_result"
    }
   ],
   "source": [
    "nd.random.normal(0, 1, shape=(3, 4))"
   ]
  },
  {
   "cell_type": "markdown",
   "execution_count": null,
   "metadata": {},
   "outputs": [],
   "source": [
    "### 运算"
   ]
  },
  {
   "cell_type": "code",
   "execution_count": 43,
   "metadata": {},
   "outputs": [
    {
     "name": "stdout",
     "output_type": "stream",
     "text": "\n[[ 1.  3.  5.  7.]\n [ 9. 11. 13. 13.]\n [ 9. 11. 13. 15.]]\n<NDArray 3x4 @cpu(0)> \n[[ 0.  2.  6. 12.]\n [20. 30. 42. 42.]\n [ 8. 18. 30. 44.]]\n<NDArray 3x4 @cpu(0)> \n[[0.         0.5        0.6666667  0.75      ]\n [0.8        0.8333333  0.85714287 1.1666666 ]\n [8.         4.5        3.3333333  2.75      ]]\n<NDArray 3x4 @cpu(0)>\n"
    }
   ],
   "source": [
    "print(x+y, x*y, x/y)"
   ]
  },
  {
   "cell_type": "code",
   "execution_count": 46,
   "metadata": {},
   "outputs": [
    {
     "name": "stdout",
     "output_type": "stream",
     "text": "\n[[1.0000000e+00 2.7182817e+00 7.3890562e+00 2.0085537e+01]\n [5.4598148e+01 1.4841316e+02 4.0342880e+02 1.0966332e+03]\n [2.9809580e+03 8.1030840e+03 2.2026465e+04 5.9874141e+04]]\n<NDArray 3x4 @cpu(0)> \n[[   2.7182817    7.389056    20.085537    54.59815  ]\n [ 148.41316    403.4288    1096.6332     403.4288   ]\n [   2.7182817    7.389056    20.085537    54.59815  ]]\n<NDArray 3x4 @cpu(0)> \n[[ 20.  38.  20.]\n [ 60. 134.  60.]\n [100. 230. 100.]]\n<NDArray 3x3 @cpu(0)>\n"
    }
   ],
   "source": [
    "print(x.exp(), nd.exp(y), nd.dot(x, y.T))"
   ]
  },
  {
   "cell_type": "code",
   "execution_count": 47,
   "metadata": {},
   "outputs": [
    {
     "name": "stdout",
     "output_type": "stream",
     "text": "\n[[ 0.  1.  2.  3.]\n [ 4.  5.  6.  7.]\n [ 8.  9. 10. 11.]\n [ 1.  2.  3.  4.]\n [ 5.  6.  7.  6.]\n [ 1.  2.  3.  4.]]\n<NDArray 6x4 @cpu(0)> \n[[ 0.  1.  2.  3.  1.  2.  3.  4.]\n [ 4.  5.  6.  7.  5.  6.  7.  6.]\n [ 8.  9. 10. 11.  1.  2.  3.  4.]]\n<NDArray 3x8 @cpu(0)>\n"
    }
   ],
   "source": [
    "# 使用nd.concat连接两个矩阵，dim指定连接的轴，也就是shape中第几个位置的轴会相加\n",
    "print(nd.concat(x, y, dim=0), nd.concat(x, y, dim=1))"
   ]
  },
  {
   "cell_type": "code",
   "execution_count": 48,
   "metadata": {},
   "outputs": [
    {
     "name": "stdout",
     "output_type": "stream",
     "text": "\n[[0. 0. 0. 0.]\n [0. 0. 0. 0.]\n [0. 0. 0. 0.]]\n<NDArray 3x4 @cpu(0)>\n"
    }
   ],
   "source": [
    "print(x==y)"
   ]
  },
  {
   "cell_type": "code",
   "execution_count": 53,
   "metadata": {},
   "outputs": [
    {
     "name": "stdout",
     "output_type": "stream",
     "text": "22.494442 \n[66.]\n<NDArray 1 @cpu(0)>\n"
    }
   ],
   "source": [
    "# asscalar()将矩阵变为标量\n",
    "print(x.norm().asscalar(),x.sum())"
   ]
  },
  {
   "cell_type": "markdown",
   "execution_count": null,
   "metadata": {},
   "outputs": [],
   "source": [
    "### 广播"
   ]
  },
  {
   "cell_type": "code",
   "execution_count": 55,
   "metadata": {},
   "outputs": [
    {
     "name": "stdout",
     "output_type": "stream",
     "text": "\n[[0. 1.]]\n<NDArray 1x2 @cpu(0)> \n[[0.]\n [1.]\n [2.]]\n<NDArray 3x1 @cpu(0)>\n"
    }
   ],
   "source": [
    "A = nd.arange(3).reshape((3,-1))\n",
    "B = nd.arange(2).reshape((-1,2))\n",
    "print(B,A)"
   ]
  },
  {
   "cell_type": "code",
   "execution_count": 56,
   "metadata": {},
   "outputs": [
    {
     "name": "stdout",
     "output_type": "stream",
     "text": "\n[[0. 1.]\n [1. 2.]\n [2. 3.]]\n<NDArray 3x2 @cpu(0)> \n[[0. 0.]\n [0. 1.]\n [0. 2.]]\n<NDArray 3x2 @cpu(0)>\n"
    }
   ],
   "source": [
    "print(A+B, A*B)"
   ]
  },
  {
   "cell_type": "markdown",
   "execution_count": null,
   "metadata": {},
   "outputs": [],
   "source": [
    "### 索引"
   ]
  },
  {
   "cell_type": "code",
   "execution_count": 60,
   "metadata": {},
   "outputs": [
    {
     "name": "stdout",
     "output_type": "stream",
     "text": "\n[[0. 1. 9. 3.]\n [4. 5. 6. 7.]]\n<NDArray 2x4 @cpu(0)> \n[[0. 1.]\n [4. 5.]\n [8. 9.]]\n<NDArray 3x2 @cpu(0)>\n"
    }
   ],
   "source": [
    "print(x[0:2], x[:, 0:2])"
   ]
  },
  {
   "cell_type": "code",
   "execution_count": 58,
   "metadata": {},
   "outputs": [
    {
     "name": "stdout",
     "output_type": "stream",
     "text": "\n[[ 0.  1.  9.  3.]\n [ 4.  5.  6.  7.]\n [ 8.  9. 10. 11.]]\n<NDArray 3x4 @cpu(0)>\n"
    }
   ],
   "source": [
    "x[0, 2] = 9\n",
    "print(x)"
   ]
  },
  {
   "cell_type": "markdown",
   "execution_count": null,
   "metadata": {},
   "outputs": [],
   "source": [
    "### 运算内存开销"
   ]
  },
  {
   "cell_type": "code",
   "execution_count": 62,
   "metadata": {},
   "outputs": [
    {
     "name": "stdout",
     "output_type": "stream",
     "text": "False\n"
    }
   ],
   "source": [
    "before = id(y)\n",
    "y = x + y \n",
    "print(id(y) == before)"
   ]
  },
  {
   "cell_type": "code",
   "execution_count": 66,
   "metadata": {},
   "outputs": [
    {
     "name": "stdout",
     "output_type": "stream",
     "text": "True\n"
    }
   ],
   "source": [
    "z = nd.zeros_like(y)\n",
    "before = id(z)\n",
    "z[:] = x + y\n",
    "print(id(z) == before) "
   ]
  },
  {
   "cell_type": "code",
   "execution_count": 68,
   "metadata": {},
   "outputs": [
    {
     "name": "stdout",
     "output_type": "stream",
     "text": "True\n"
    }
   ],
   "source": [
    "#使用运算符全名函数\n",
    "nd.elemwise_add(x, y, out=z)\n",
    "print(id(z) == before) \n",
    "#以下均可节约内存\n",
    "# x[:] = x + y\n",
    "# x += y"
   ]
  },
  {
   "cell_type": "markdown",
   "execution_count": null,
   "metadata": {},
   "outputs": [],
   "source": [
    "## 与NumPy互转"
   ]
  },
  {
   "cell_type": "code",
   "execution_count": 71,
   "metadata": {},
   "outputs": [
    {
     "name": "stdout",
     "output_type": "stream",
     "text": "[1 2 3]\n\n[1. 2. 3.]\n<NDArray 3 @cpu(0)>\n"
    },
    {
     "data": {
      "text/plain": "array([1., 2., 3.], dtype=float32)"
     },
     "execution_count": 71,
     "metadata": {},
     "output_type": "execute_result"
    }
   ],
   "source": [
    "import numpy as np\n",
    "p = np.array([1,2,3])\n",
    "print(p)\n",
    "dp = nd.array(p)\n",
    "print(dp)\n",
    "dp.asnumpy()"
   ]
  },
  {
   "cell_type": "markdown",
   "execution_count": null,
   "metadata": {},
   "outputs": [],
   "source": [
    "## 2 autograd"
   ]
  },
  {
   "cell_type": "code",
   "execution_count": 72,
   "metadata": {},
   "outputs": [],
   "source": [
    "from mxnet import autograd, nd"
   ]
  },
  {
   "cell_type": "code",
   "execution_count": 77,
   "metadata": {},
   "outputs": [
    {
     "name": "stdout",
     "output_type": "stream",
     "text": "\n[[0.]\n [1.]\n [2.]\n [3.]]\n<NDArray 4x1 @cpu(0)>\n"
    }
   ],
   "source": [
    "x = nd.arange(4).reshape((4,1))\n",
    "print(x)"
   ]
  },
  {
   "cell_type": "code",
   "execution_count": 78,
   "metadata": {},
   "outputs": [],
   "source": [
    "x.attach_grad()\n",
    "with autograd.record():\n",
    "    y = 2 * nd.dot(x.T, x)\n",
    "\n",
    "y.backward()"
   ]
  },
  {
   "cell_type": "code",
   "execution_count": 79,
   "metadata": {},
   "outputs": [
    {
     "data": {
      "text/plain": "\n[[ 0.]\n [ 4.]\n [ 8.]\n [12.]]\n<NDArray 4x1 @cpu(0)>"
     },
     "execution_count": 79,
     "metadata": {},
     "output_type": "execute_result"
    }
   ],
   "source": [
    "x.grad"
   ]
  },
  {
   "cell_type": "code",
   "execution_count": 82,
   "metadata": {},
   "outputs": [],
   "source": [
    "assert(x.grad - 4*x).norm().asscalar()==0"
   ]
  },
  {
   "cell_type": "markdown",
   "execution_count": null,
   "metadata": {},
   "outputs": [],
   "source": [
    "### 训练模式和预测模式"
   ]
  },
  {
   "cell_type": "code",
   "execution_count": 85,
   "metadata": {},
   "outputs": [
    {
     "name": "stdout",
     "output_type": "stream",
     "text": "False\nTrue\n"
    }
   ],
   "source": [
    "print(autograd.is_training())\n",
    "# 在使用recode()函数后会进入训练模式，记录梯度\n",
    "with autograd.record():\n",
    "    print(autograd.is_training())"
   ]
  },
  {
   "cell_type": "markdown",
   "execution_count": null,
   "metadata": {},
   "outputs": [],
   "source": [
    "### python控制流下的自动求导"
   ]
  },
  {
   "cell_type": "code",
   "execution_count": 88,
   "metadata": {},
   "outputs": [],
   "source": [
    "def f(a):\n",
    "    b = a * 2\n",
    "    while b.norm().asscalar() < 1000:\n",
    "        b = b * 2\n",
    "    if b.sum().asscalar() > 0:\n",
    "        c = b\n",
    "    else:\n",
    "        c = 100 * b\n",
    "    return c"
   ]
  },
  {
   "cell_type": "code",
   "execution_count": 89,
   "metadata": {},
   "outputs": [],
   "source": [
    "a = nd.random.normal(shape=1)\n",
    "a.attach_grad()\n",
    "with autograd.record():\n",
    "    c = f(a)\n",
    "c.backward()"
   ]
  },
  {
   "cell_type": "markdown",
   "execution_count": 104,
   "metadata": {},
   "outputs": [],
   "source": [
    "### 非标量变量的backward"
   ]
  },
  {
   "cell_type": "code",
   "execution_count": 108,
   "metadata": {},
   "outputs": [],
   "source": [
    "aa = nd.array([[3,4],[1,2]])"
   ]
  },
  {
   "cell_type": "code",
   "execution_count": null,
   "metadata": {},
   "outputs": [],
   "source": [
    "aa.attach_grad()\n",
    "with autograd.rconrd():\n",
    "    c = "
   ]
  }
 ]
}